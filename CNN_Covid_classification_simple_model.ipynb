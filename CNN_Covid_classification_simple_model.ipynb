{
 "cells": [
  {
   "cell_type": "code",
   "execution_count": 17,
   "id": "916f689e",
   "metadata": {},
   "outputs": [],
   "source": [
    "import keras\n",
    "from keras.layers import *\n",
    "from keras.models import *\n",
    "from keras.preprocessing import image \n",
    "import nbimporter\n",
    "import generate_data_cnn as gd\n",
    "import confusion_matrix_generate as cmg"
   ]
  },
  {
   "cell_type": "code",
   "execution_count": 18,
   "id": "5474e375",
   "metadata": {},
   "outputs": [
    {
     "name": "stdout",
     "output_type": "stream",
     "text": [
      "Data for training and testing gathered!\n"
     ]
    }
   ],
   "source": [
    "# define the size of image for rescaling\n",
    "image_size = (224,224)\n",
    "# path images\n",
    "# train\n",
    "train_image_pos_path = \"./model_data/data_train/covid_positive\"\n",
    "train_image_neg_path = \"./model_data/data_train/covid_negative\"\n",
    "# test\n",
    "test_image_pos_path = \"./model_data/data_test/covid_positive\"\n",
    "test_image_neg_path = \"./model_data/data_test/covid_negative\"\n",
    "# get train data\n",
    "train_data,train_label = gd.get_data(train_image_pos_path,train_image_neg_path,image_size)\n",
    "# get test data\n",
    "test_data,test_label = gd.get_data(test_image_pos_path,test_image_neg_path,image_size)\n",
    "print(\"Data for training and testing gathered!\")"
   ]
  },
  {
   "cell_type": "code",
   "execution_count": 19,
   "id": "b876d472",
   "metadata": {
    "scrolled": true
   },
   "outputs": [
    {
     "name": "stdout",
     "output_type": "stream",
     "text": [
      "Model: \"sequential_2\"\n",
      "_________________________________________________________________\n",
      "Layer (type)                 Output Shape              Param #   \n",
      "=================================================================\n",
      "conv2d_6 (Conv2D)            (None, 222, 222, 32)      896       \n",
      "_________________________________________________________________\n",
      "max_pooling2d_6 (MaxPooling2 (None, 111, 111, 32)      0         \n",
      "_________________________________________________________________\n",
      "dropout_8 (Dropout)          (None, 111, 111, 32)      0         \n",
      "_________________________________________________________________\n",
      "conv2d_7 (Conv2D)            (None, 109, 109, 64)      18496     \n",
      "_________________________________________________________________\n",
      "max_pooling2d_7 (MaxPooling2 (None, 54, 54, 64)        0         \n",
      "_________________________________________________________________\n",
      "dropout_9 (Dropout)          (None, 54, 54, 64)        0         \n",
      "_________________________________________________________________\n",
      "conv2d_8 (Conv2D)            (None, 52, 52, 128)       73856     \n",
      "_________________________________________________________________\n",
      "max_pooling2d_8 (MaxPooling2 (None, 26, 26, 128)       0         \n",
      "_________________________________________________________________\n",
      "dropout_10 (Dropout)         (None, 26, 26, 128)       0         \n",
      "_________________________________________________________________\n",
      "flatten_2 (Flatten)          (None, 86528)             0         \n",
      "_________________________________________________________________\n",
      "dense_4 (Dense)              (None, 64)                5537856   \n",
      "_________________________________________________________________\n",
      "dropout_11 (Dropout)         (None, 64)                0         \n",
      "_________________________________________________________________\n",
      "dense_5 (Dense)              (None, 1)                 65        \n",
      "=================================================================\n",
      "Total params: 5,631,169\n",
      "Trainable params: 5,631,169\n",
      "Non-trainable params: 0\n",
      "_________________________________________________________________\n"
     ]
    }
   ],
   "source": [
    "# build the CNN model\n",
    "model = Sequential()\n",
    "\n",
    "model.add(Conv2D(32,kernel_size=(3,3),activation=\"relu\",input_shape=(224,224,3)))\n",
    "model.add(MaxPooling2D(pool_size=(2,2)))\n",
    "model.add(Dropout(0.25))\n",
    "\n",
    "model.add(Conv2D(64,(3,3),activation=\"relu\"))\n",
    "model.add(MaxPooling2D(pool_size=(2,2)))\n",
    "model.add(Dropout(0.25))\n",
    "\n",
    "model.add(Conv2D(128,(3,3),activation=\"relu\"))\n",
    "model.add(MaxPooling2D(pool_size=(2,2)))\n",
    "model.add(Dropout(0.25))\n",
    "\n",
    "\n",
    "model.add(Flatten())\n",
    "model.add(Dense(64,activation=\"relu\"))\n",
    "model.add(Dropout(0.5))\n",
    "model.add(Dense(1,activation=\"sigmoid\"))\n",
    "\n",
    "model.compile(loss=keras.losses.binary_crossentropy,optimizer=\"adam\",metrics=[\"accuracy\"])\n",
    "# summary of model\n",
    "model.summary()"
   ]
  },
  {
   "cell_type": "code",
   "execution_count": 20,
   "id": "08c5d932",
   "metadata": {
    "scrolled": true
   },
   "outputs": [
    {
     "name": "stdout",
     "output_type": "stream",
     "text": [
      "Epoch 1/10\n",
      "8/8 [==============================] - 23s 3s/step - loss: 1.6242 - accuracy: 0.5642 - val_loss: 0.7099 - val_accuracy: 0.0000e+00\n",
      "Epoch 2/10\n",
      "8/8 [==============================] - 19s 2s/step - loss: 0.6665 - accuracy: 0.6692 - val_loss: 0.6885 - val_accuracy: 0.6429\n",
      "Epoch 3/10\n",
      "8/8 [==============================] - 18s 2s/step - loss: 0.5451 - accuracy: 0.7401 - val_loss: 0.4649 - val_accuracy: 0.9048\n",
      "Epoch 4/10\n",
      "8/8 [==============================] - 18s 2s/step - loss: 0.2661 - accuracy: 0.9086 - val_loss: 0.2751 - val_accuracy: 0.8810\n",
      "Epoch 5/10\n",
      "8/8 [==============================] - 18s 2s/step - loss: 0.2431 - accuracy: 0.9428 - val_loss: 0.2079 - val_accuracy: 0.9762\n",
      "Epoch 6/10\n",
      "8/8 [==============================] - 18s 2s/step - loss: 0.2304 - accuracy: 0.9228 - val_loss: 0.1589 - val_accuracy: 0.9762\n",
      "Epoch 7/10\n",
      "8/8 [==============================] - 18s 2s/step - loss: 0.2446 - accuracy: 0.9316 - val_loss: 0.2094 - val_accuracy: 0.9286\n",
      "Epoch 8/10\n",
      "8/8 [==============================] - 18s 2s/step - loss: 0.1154 - accuracy: 0.9737 - val_loss: 0.1584 - val_accuracy: 0.9762\n",
      "Epoch 9/10\n",
      "8/8 [==============================] - 18s 2s/step - loss: 0.0820 - accuracy: 0.9754 - val_loss: 0.2053 - val_accuracy: 0.9048\n",
      "Epoch 10/10\n",
      "8/8 [==============================] - 18s 2s/step - loss: 0.0630 - accuracy: 0.9821 - val_loss: 0.1923 - val_accuracy: 0.9524\n"
     ]
    }
   ],
   "source": [
    "# train the model\n",
    "hist =  model.fit(\n",
    "    train_data,\n",
    "    train_label,\n",
    "    shuffle = True,\n",
    "    epochs=10,\n",
    "    steps_per_epoch=8,\n",
    "    batch_size = 32,\n",
    "    validation_split = 0.15)"
   ]
  },
  {
   "cell_type": "code",
   "execution_count": 21,
   "id": "b660f2f1",
   "metadata": {},
   "outputs": [
    {
     "name": "stdout",
     "output_type": "stream",
     "text": [
      "5/5 [==============================] - 3s 572ms/step - loss: 0.9385 - accuracy: 0.7785\n"
     ]
    }
   ],
   "source": [
    "# use the model on the test data \n",
    "model.evaluate(test_data,test_label)\n",
    "p = (model.predict(test_data) > 0.5).astype(\"int\")"
   ]
  },
  {
   "cell_type": "code",
   "execution_count": 22,
   "id": "0bd23061",
   "metadata": {},
   "outputs": [
    {
     "name": "stdout",
     "output_type": "stream",
     "text": [
      "[[65 34]\n",
      " [ 1 58]]\n",
      "precsion = 0.6304347826086957\n",
      "recall = 0.9830508474576272\n"
     ]
    }
   ],
   "source": [
    "from sklearn.metrics import confusion_matrix\n",
    "# compute confusion matrix\n",
    "cm = confusion_matrix(test_label,p)\n",
    "print(cm)\n",
    "print(\"precsion = \"+str(cm[1,1]/(cm[1,1]+cm[0,1])))\n",
    "print(\"recall = \" +str(cm[1,1]/(cm[1,1]+cm[1,0])))"
   ]
  },
  {
   "cell_type": "code",
   "execution_count": 23,
   "id": "c578073b",
   "metadata": {},
   "outputs": [
    {
     "data": {
      "image/png": "[encoded data removed]",
      "text/plain": [
       "<Figure size 432x288 with 2 Axes>"
      ]
     },
     "metadata": {
      "needs_background": "light"
     },
     "output_type": "display_data"
    }
   ],
   "source": [
    "# plot confusion matrix\n",
    "cmg.cm_plot(test_label,p,[\"negative\",\"positive\"])"
   ]
  },
  {
   "cell_type": "code",
   "execution_count": 24,
   "id": "77ec1e17",
   "metadata": {},
   "outputs": [],
   "source": [
    "# save the trained model\n",
    "model.save(\"./my_model\")\n",
    "# model = load_model(\"./my_model\")"
   ]
  }
 ],
 "metadata": {
  "kernelspec": {
   "display_name": "Python 3",
   "language": "python",
   "name": "python3"
  },
  "language_info": {
   "codemirror_mode": {
    "name": "ipython",
    "version": 3
   },
   "file_extension": ".py",
   "mimetype": "text/x-python",
   "name": "python",
   "nbconvert_exporter": "python",
   "pygments_lexer": "ipython3",
   "version": "3.8.8"
  }
 },
 "nbformat": 4,
 "nbformat_minor": 5
}
