{
 "cells": [
  {
   "cell_type": "code",
   "execution_count": 1,
   "id": "a4f5ce3e",
   "metadata": {},
   "outputs": [],
   "source": [
    "def cm_plot(y_true,y_pred,label):\n",
    "    \"\"\"\n",
    "    Function to plot the confusion matrix.\n",
    "\n",
    "    Inputs: - y_true: true labels\n",
    "            - y_pred: predicted labels\n",
    "            - label : label names, for example: [\"1\",\"2\",\"3\"]\n",
    "    Output: - plot of confusion matrix\n",
    "    \"\"\"\n",
    "    import matplotlib.pyplot as plt\n",
    "    import numpy as np\n",
    "    import itertools\n",
    "    from sklearn.metrics import confusion_matrix\n",
    "    \n",
    "    # compute confusion matrix\n",
    "    cm = confusion_matrix(y_true,y_pred)\n",
    "    # precision = TP/(TP+FP)\n",
    "    precision = cm[1,1]/(cm[1,1]+cm[0,1])\n",
    "    # recall = TP/(TP+FN)\n",
    "    recall = cm[1,1]/(cm[1,1]+cm[1,0])\n",
    "\n",
    "    # create the figure\n",
    "    plt.figure(figsize=(6, 4))\n",
    "    plt.imshow(cm, interpolation=\"nearest\", cmap=plt.get_cmap('Blues'))\n",
    "    plt.title(\"confusion matrix\")\n",
    "    plt.colorbar()   \n",
    "    plt.xticks(np.arange(len(label)), label)\n",
    "    plt.yticks(np.arange(len(label)), label)\n",
    "\n",
    "    # plot\n",
    "    thresh = cm.max() / 1.5 \n",
    "    for i, j in itertools.product(range(cm.shape[0]), range(cm.shape[1])):\n",
    "        plt.text(j,i, \"{:,}\".format(cm[i, j]),\n",
    "                 horizontalalignment=\"center\",\n",
    "                 color=\"white\" if cm[i, j] > thresh else \"black\")\n",
    "    # show\n",
    "    plt.ylabel('True label')\n",
    "    plt.xlabel('Predicted label\\n precision={:0.4f}; recall={:0.4f}'.format(precision,recall))\n",
    "    plt.tight_layout()\n",
    "    plt.show()"
   ]
  }
 ],
 "metadata": {
  "kernelspec": {
   "display_name": "Python 3",
   "language": "python",
   "name": "python3"
  },
  "language_info": {
   "codemirror_mode": {
    "name": "ipython",
    "version": 3
   },
   "file_extension": ".py",
   "mimetype": "text/x-python",
   "name": "python",
   "nbconvert_exporter": "python",
   "pygments_lexer": "ipython3",
   "version": "3.8.8"
  }
 },
 "nbformat": 4,
 "nbformat_minor": 5
}
