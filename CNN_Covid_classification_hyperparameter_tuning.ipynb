{
 "cells": [
  {
   "cell_type": "code",
   "execution_count": 1,
   "id": "916f689e",
   "metadata": {},
   "outputs": [],
   "source": [
    "# imports\n",
    "from tensorflow import keras\n",
    "from tensorflow.keras import layers\n",
    "from kerastuner.tuners import RandomSearch\n",
    "from keras.layers import *\n",
    "from keras.models import *\n",
    "from keras.preprocessing import image \n",
    "import nbimporter\n",
    "import generate_data_cnn as gd\n",
    "import confusion_matrix_generate as cmg"
   ]
  },
  {
   "cell_type": "code",
   "execution_count": 2,
   "id": "5474e375",
   "metadata": {},
   "outputs": [
    {
     "name": "stdout",
     "output_type": "stream",
     "text": [
      "Data for training and testing gathered!\n"
     ]
    }
   ],
   "source": [
    "# define the size of image for rescaling\n",
    "image_size = (224,224)\n",
    "# path images\n",
    "# train\n",
    "train_image_pos_path = \"./model_data/data_train/covid_positive\"\n",
    "train_image_neg_path = \"./model_data/data_train/covid_negative\"\n",
    "# test\n",
    "test_image_pos_path = \"./model_data/data_test/covid_positive\"\n",
    "test_image_neg_path = \"./model_data/data_test/covid_negative\"\n",
    "# get train data\n",
    "train_data,train_label = gd.get_data(train_image_pos_path,train_image_neg_path,image_size)\n",
    "# get test data\n",
    "test_data,test_label = gd.get_data(test_image_pos_path,test_image_neg_path,image_size)\n",
    "print(\"Data for training and testing gathered!\")"
   ]
  },
  {
   "cell_type": "code",
   "execution_count": 3,
   "id": "5eb89b92",
   "metadata": {
    "scrolled": true
   },
   "outputs": [],
   "source": [
    "# define the model for hyperparameter optimization\n",
    "def build_model(hp):\n",
    "    \n",
    "    model = keras.Sequential()\n",
    "    model.add(Conv2D(hp.Choice(\"First Layer\",[32]),kernel_size=(3,3),activation=\"relu\",input_shape=(224,224,3)))\n",
    "    model.add(MaxPooling2D(pool_size=(2,2)))\n",
    "    model.add(Dropout(hp.Choice(\"DR1\",[0.2,0.3,0.4,0.5])))\n",
    "\n",
    "    model.add(Conv2D(hp.Choice(\"Second Layer\",[64]),(3,3),activation=\"relu\"))\n",
    "    model.add(MaxPooling2D(pool_size=(2,2)))\n",
    "    model.add(Dropout(hp.Choice(\"DR2\",[0.2,0.3,0.4,0.5])))\n",
    "\n",
    "    model.add(Conv2D(hp.Choice(\"Third Layer\",[128]),(3,3),activation=\"relu\"))\n",
    "    model.add(MaxPooling2D(pool_size=(2,2)))\n",
    "    model.add(Dropout(hp.Choice(\"DR3\",[0.2,0.3,0.4,0.5])))\n",
    "    \n",
    "    model.add(Flatten())\n",
    "    model.add(Dense(hp.Choice(\"Dense Layer\",[64,128]),activation=\"relu\"))\n",
    "    model.add(Dropout(hp.Choice(\"DR4\",[0.2,0.3,0.4,0.5])))\n",
    "    model.add(Dense(1,activation=\"sigmoid\"))\n",
    "    \n",
    "    model.compile(\n",
    "        optimizer=keras.optimizers.Adam(hp.Choice(\"learning_rate\",values=[1e-2, 1e-3, 1e-4])),\n",
    "        loss=keras.losses.binary_crossentropy,\n",
    "        metrics=[\"accuracy\"])\n",
    "    return model\n",
    "\n",
    "tuner = RandomSearch(\n",
    "    build_model,\n",
    "    objective=\"val_accuracy\",\n",
    "    max_trials=5,\n",
    "    directory='optimization1')"
   ]
  },
  {
   "cell_type": "code",
   "execution_count": 4,
   "id": "6866a688",
   "metadata": {
    "scrolled": true
   },
   "outputs": [
    {
     "name": "stdout",
     "output_type": "stream",
     "text": [
      "Trial 5 Complete [00h 02m 56s]\n",
      "val_accuracy: 0.976190447807312\n",
      "\n",
      "Best val_accuracy So Far: 0.976190447807312\n",
      "Total elapsed time: 00h 14m 54s\n",
      "INFO:tensorflow:Oracle triggered exit\n"
     ]
    }
   ],
   "source": [
    "# optimization\n",
    "hist = tuner.search(\n",
    "    train_data,\n",
    "    train_label,\n",
    "    shuffle = True,\n",
    "    epochs=50,\n",
    "    steps_per_epoch=8,\n",
    "    batch_size=32,\n",
    "    validation_split=0.15)"
   ]
  },
  {
   "cell_type": "code",
   "execution_count": 5,
   "id": "69f45ca9",
   "metadata": {
    "scrolled": true
   },
   "outputs": [],
   "source": [
    "# retrieve the best model\n",
    "best_model = tuner.get_best_models()[0]"
   ]
  },
  {
   "cell_type": "code",
   "execution_count": 6,
   "id": "267d1fff",
   "metadata": {},
   "outputs": [
    {
     "name": "stdout",
     "output_type": "stream",
     "text": [
      "5/5 [==============================] - 3s 546ms/step - loss: 0.3383 - accuracy: 0.8291\n"
     ]
    },
    {
     "data": {
      "text/plain": [
       "[0.33833077549934387, 0.8291139006614685]"
      ]
     },
     "execution_count": 6,
     "metadata": {},
     "output_type": "execute_result"
    }
   ],
   "source": [
    "# use the model on the test data \n",
    "p = (best_model.predict(test_data) > 0.5).astype(\"int\")\n",
    "best_model.evaluate(test_data,test_label)"
   ]
  },
  {
   "cell_type": "code",
   "execution_count": 7,
   "id": "b96f72b6",
   "metadata": {},
   "outputs": [
    {
     "name": "stdout",
     "output_type": "stream",
     "text": [
      "Model: \"sequential\"\n",
      "_________________________________________________________________\n",
      "Layer (type)                 Output Shape              Param #   \n",
      "=================================================================\n",
      "module_wrapper (ModuleWrappe (None, 222, 222, 32)      896       \n",
      "_________________________________________________________________\n",
      "module_wrapper_1 (ModuleWrap (None, 111, 111, 32)      0         \n",
      "_________________________________________________________________\n",
      "module_wrapper_2 (ModuleWrap (None, 111, 111, 32)      0         \n",
      "_________________________________________________________________\n",
      "module_wrapper_3 (ModuleWrap (None, 109, 109, 64)      18496     \n",
      "_________________________________________________________________\n",
      "module_wrapper_4 (ModuleWrap (None, 54, 54, 64)        0         \n",
      "_________________________________________________________________\n",
      "module_wrapper_5 (ModuleWrap (None, 54, 54, 64)        0         \n",
      "_________________________________________________________________\n",
      "module_wrapper_6 (ModuleWrap (None, 52, 52, 128)       73856     \n",
      "_________________________________________________________________\n",
      "module_wrapper_7 (ModuleWrap (None, 26, 26, 128)       0         \n",
      "_________________________________________________________________\n",
      "module_wrapper_8 (ModuleWrap (None, 26, 26, 128)       0         \n",
      "_________________________________________________________________\n",
      "module_wrapper_9 (ModuleWrap (None, 86528)             0         \n",
      "_________________________________________________________________\n",
      "module_wrapper_10 (ModuleWra (None, 128)               11075712  \n",
      "_________________________________________________________________\n",
      "module_wrapper_11 (ModuleWra (None, 128)               0         \n",
      "_________________________________________________________________\n",
      "module_wrapper_12 (ModuleWra (None, 1)                 129       \n",
      "=================================================================\n",
      "Total params: 11,169,089\n",
      "Trainable params: 11,169,089\n",
      "Non-trainable params: 0\n",
      "_________________________________________________________________\n"
     ]
    }
   ],
   "source": [
    "best_model.summary()"
   ]
  },
  {
   "cell_type": "code",
   "execution_count": 8,
   "id": "4fd6ec14",
   "metadata": {},
   "outputs": [
    {
     "name": "stdout",
     "output_type": "stream",
     "text": [
      "[[73 26]\n",
      " [ 1 58]]\n"
     ]
    }
   ],
   "source": [
    "from sklearn.metrics import confusion_matrix\n",
    "# compute confusion matrix\n",
    "cm = confusion_matrix(test_label,p)\n",
    "print(cm)"
   ]
  },
  {
   "cell_type": "code",
   "execution_count": 9,
   "id": "1f026c7a",
   "metadata": {},
   "outputs": [
    {
     "data": {
      "image/png": "[encoded data removed]",
      "text/plain": [
       "<Figure size 432x288 with 2 Axes>"
      ]
     },
     "metadata": {
      "needs_background": "light"
     },
     "output_type": "display_data"
    }
   ],
   "source": [
    "# confusion matrix\n",
    "cmg.cm_plot(test_label,p,[\"negative\",\"positive\"])"
   ]
  },
  {
   "cell_type": "code",
   "execution_count": 12,
   "id": "77ec1e17",
   "metadata": {},
   "outputs": [],
   "source": [
    "# save the best trained model\n",
    "# best_model.save(\"./my_best_model\")\n",
    "best_model = load_model(\"./my_best_model\")"
   ]
  }
 ],
 "metadata": {
  "kernelspec": {
   "display_name": "Python 3",
   "language": "python",
   "name": "python3"
  },
  "language_info": {
   "codemirror_mode": {
    "name": "ipython",
    "version": 3
   },
   "file_extension": ".py",
   "mimetype": "text/x-python",
   "name": "python",
   "nbconvert_exporter": "python",
   "pygments_lexer": "ipython3",
   "version": "3.8.8"
  }
 },
 "nbformat": 4,
 "nbformat_minor": 5
}
