{
 "cells": [
  {
   "cell_type": "code",
   "execution_count": 1,
   "id": "571aadc9",
   "metadata": {},
   "outputs": [],
   "source": [
    "def get_data(path_cov_pos,path_cov_neg,image_size):\n",
    "    # define the size of image for rescaling\n",
    "    \"\"\"\n",
    "    Function to get data for training and testing the CNN.\n",
    "    \n",
    "    Inputs: - path_cov_pos: path to images of covid positve x-rays.\n",
    "            - path_cov_neg: path to images of covid negative x-rays.\n",
    "            - image_size  : size to resize the image.\n",
    "    Output: - data: numpy array of resized images.\n",
    "            - label: label of the images in data.\n",
    "    \"\"\"\n",
    "    \n",
    "    # imports\n",
    "    import os\n",
    "    import cv2\n",
    "    import numpy as np\n",
    "\n",
    "    # positive samples    \n",
    "    img_pos = []\n",
    "    label_pos = []\n",
    "    for n in os.listdir(path_cov_pos):\n",
    "        # read in the image\n",
    "        im= cv2.imread(os.path.join(path_cov_pos,n))\n",
    "        # resize\n",
    "        im = cv2.resize(im,image_size)\n",
    "        img_pos.append(im)\n",
    "        label_pos.append(1)\n",
    "    # turn into numpy array\n",
    "    img_pos = np.array(img_pos,dtype=\"float32\")\n",
    "    label_pos = np.array(label_pos,dtype=\"int\")\n",
    "\n",
    "    # negative samples\n",
    "    img_neg= []\n",
    "    label_neg = []\n",
    "    for n in os.listdir(path_cov_neg):\n",
    "        # read in image\n",
    "        im= cv2.imread(os.path.join(path_cov_neg,n))\n",
    "        # resize\n",
    "        im = cv2.resize(im,image_size)\n",
    "        img_neg.append(im)\n",
    "        label_neg.append(0)\n",
    "    # turn into numpy array\n",
    "    img_neg = np.array(img_neg,dtype=\"float32\")\n",
    "    label_neg = np.array(label_neg,dtype=\"int\")\n",
    "\n",
    "    # combine negative and positive covid train data\n",
    "    data = np.concatenate((img_pos,img_neg), axis=0)\n",
    "    # normalize the images\n",
    "    data = data/255\n",
    "    label = np.concatenate((label_pos,label_neg), axis=0)\n",
    "    \n",
    "    return data,label"
   ]
  }
 ],
 "metadata": {
  "kernelspec": {
   "display_name": "Python 3",
   "language": "python",
   "name": "python3"
  },
  "language_info": {
   "codemirror_mode": {
    "name": "ipython",
    "version": 3
   },
   "file_extension": ".py",
   "mimetype": "text/x-python",
   "name": "python",
   "nbconvert_exporter": "python",
   "pygments_lexer": "ipython3",
   "version": "3.8.8"
  }
 },
 "nbformat": 4,
 "nbformat_minor": 5
}
